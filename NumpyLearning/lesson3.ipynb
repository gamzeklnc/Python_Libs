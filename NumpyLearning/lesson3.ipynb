{
 "cells": [
  {
   "cell_type": "code",
   "execution_count": 6,
   "id": "8ee4b93a",
   "metadata": {},
   "outputs": [],
   "source": [
    "import numpy as np"
   ]
  },
  {
   "cell_type": "code",
   "execution_count": 12,
   "id": "250e9538",
   "metadata": {},
   "outputs": [],
   "source": [
    "#Job titles\n",
    "job_titles = np.array([\"Data Analyst\",\"Data Scientist\",\"Data Enghineer\",\"Machine learning Engineer\",\"AI Engineer\"])\n",
    "\n",
    "#Base salary\n",
    "base_salaries=np.array([60000,80000,75000,90000,np.nan])\n",
    "\n",
    "#Bonus rates \n",
    "bonus_rates=np.array([.05, .1, .08, .12, np.nan])\n",
    "#0 yerine none değeri yazarsak hata veriyor bir değer istendiği için\n"
   ]
  },
  {
   "cell_type": "code",
   "execution_count": 13,
   "id": "dc9a1353",
   "metadata": {},
   "outputs": [
    {
     "data": {
      "text/plain": [
       "array([ 63000.,  88000.,  81000., 100800.,     nan])"
      ]
     },
     "execution_count": 13,
     "metadata": {},
     "output_type": "execute_result"
    }
   ],
   "source": [
    "total_salary=base_salaries*(1+bonus_rates)\n",
    "total_salary"
   ]
  },
  {
   "cell_type": "markdown",
   "id": "a804eddb",
   "metadata": {},
   "source": [
    "nan=not a number ile yapılan işlem sonucu da bilinmez bu yüzden nan çıkar"
   ]
  },
  {
   "cell_type": "code",
   "execution_count": 15,
   "id": "c1bf9502",
   "metadata": {},
   "outputs": [
    {
     "data": {
      "text/plain": [
       "np.float64(83200.0)"
      ]
     },
     "execution_count": 15,
     "metadata": {},
     "output_type": "execute_result"
    }
   ],
   "source": [
    "np.nanmean(total_salary)"
   ]
  },
  {
   "cell_type": "code",
   "execution_count": null,
   "id": "232f5927",
   "metadata": {},
   "outputs": [
    {
     "data": {
      "text/plain": [
       "float"
      ]
     },
     "execution_count": 11,
     "metadata": {},
     "output_type": "execute_result"
    }
   ],
   "source": [
    "type(np.nan)#not a number"
   ]
  }
 ],
 "metadata": {
  "kernelspec": {
   "display_name": "Python 3",
   "language": "python",
   "name": "python3"
  },
  "language_info": {
   "codemirror_mode": {
    "name": "ipython",
    "version": 3
   },
   "file_extension": ".py",
   "mimetype": "text/x-python",
   "name": "python",
   "nbconvert_exporter": "python",
   "pygments_lexer": "ipython3",
   "version": "3.12.2"
  }
 },
 "nbformat": 4,
 "nbformat_minor": 5
}
